{
 "cells": [
  {
   "cell_type": "code",
   "execution_count": null,
   "id": "485915db-3f23-4b66-8c49-91a7f4bcd710",
   "metadata": {},
   "outputs": [],
   "source": [
    "p = (p9.ggplot(data = plot_df,mapping=p9.aes(x=\"model_cat\",y=\"accuracy\", fill=\"model_type\")) \n",
    " + p9.geom_bar(stat=\"identity\")\n",
    " + p9.geom_errorbar(mapping=p9.aes(x=\"model_cat\", ymin=\"acc_low\",ymax=\"acc_high\"))\n",
    " + p9.geom_hline(mapping=p9.aes(yintercept=\"acc_close\"), linetype=\"dashed\")\n",
    " + p9.scale_fill_manual(values=[\"lightblue\",\"steelblue\",\"salmon\",\"crimson\"])\n",
    " + p9.facet_wrap('~motif_cat')\n",
    " + p9.labs(x=\"\", y=\"Nucleotide Reconstruction Accuracy\", fill = 'Model Type')\n",
    " + p9.theme_light()\n",
    " + p9.coord_cartesian(ylim=(0,1))\n",
    " + p9.theme(legend_position=\"none\",\n",
    "            legend_text=p9.element_text(size=9),legend_title=p9.element_text(size=9),\n",
    "            subplots_adjust={'wspace': 0.1},\n",
    "            axis_text_x=p9.element_text(rotation=45, hjust=1, rotation_mode='anchor'),\n",
    "            legend_box_margin=0,legend_key_width=6,\n",
    "            axis_title=p9.element_text(size=10))\n",
    ")"
   ]
  },
  {
   "cell_type": "code",
   "execution_count": 1,
   "id": "4da20c1e-9a90-4cd0-aad4-51fba4cab90a",
   "metadata": {
    "tags": []
   },
   "outputs": [
    {
     "data": {
      "text/plain": [
       "<Figure size 100x100 with 0 Axes>"
      ]
     },
     "metadata": {},
     "output_type": "display_data"
    }
   ],
   "source": [
    "import plotnine as p9\n",
    "import pandas as pd\n",
    "import patchworklib as pw \n",
    "import numpy as np\n",
    "from scipy import stats\n",
    "\n",
    "path = 'wandb_export_2024-04-23T14 00 03.344+02 00.csv'\n",
    "\n",
    "plotsize = (2,2)\n",
    "\n",
    "data = pd.read_csv(path)\n",
    "\n",
    "data_first = data[data[\"Step\"] < 10_000]\n",
    "\n",
    "data_last = data.sample(frac=0.05)[data[\"Step\"] >= 2_500]\n",
    "data_last = data_last[(np.abs(stats.zscore(data_last)) < 3).all(axis=1)]\n",
    "\n",
    "p1 = (p9.ggplot(data=data.sample(frac=0.05), mapping=p9.aes(x='Step', y='loss'))\n",
    "    + p9.geom_point(size=0.1))\n",
    "\n",
    "\n",
    "p2 = (p9.ggplot(data=data_first, mapping=p9.aes(x='Step', y='loss'))\n",
    "    + p9.geom_point(size=0.1))\n",
    "\n",
    "p3 = (p9.ggplot(data=data_last, mapping=p9.aes(x='Step', y='loss'))\n",
    "    + p9.geom_point(size=0.1)\n",
    "    + p9.geom_smooth(data=data_last[data_last[\"Step\"] <100_000], method=\"lowess\", color=\"crimson\", span = 0.05)\n",
    "    + p9.geom_smooth(data=data_last[data_last[\"Step\"] >100_000], method=\"lowess\", color=\"crimson\", span = 0.05))\n",
    "\n",
    "#g1 = pw.load_ggplot(p1, figsize=plotsize)\n",
    "#g2 = pw.load_ggplot(p2, figsize=plotsize)\n",
    "#g3 = pw.load_ggplot(p3, figsize=plotsize)\n",
    "\n",
    "p1.save(\"all_loss.png\", width=3, height=2)\n",
    "p2.save(\"first_loss.png\", width=3, height=2)\n",
    "p3.save(\"second_loss.png\", width=3, height=2)"
   ]
  },
  {
   "cell_type": "code",
   "execution_count": 3,
   "id": "a88a9b8d-fc57-4079-a8c6-f359000732e9",
   "metadata": {
    "tags": []
   },
   "outputs": [],
   "source": [
    "path_ce = 'Cross_Entropy.csv'\n",
    "path_ma = 'masked_accuracy.csv'\n",
    "\n",
    "data_ce = pd.read_csv(path_ce)[1:]\n",
    "data_ma = pd.read_csv(path_ma)[1:]\n",
    "\n",
    "p4 = (p9.ggplot(data=data_ma, mapping=p9.aes(x='Step', y='Masked Accuracy'))\n",
    "      + p9.geom_line())\n",
    "\n",
    "p5 = (p9.ggplot(data=data_ce, mapping=p9.aes(x='Step', y='Cross Entropy'))\n",
    "      + p9.geom_line())\n",
    "\n",
    "p4.save(\"ma.png\", width=3, height=2)\n",
    "p5.save(\"ce.png\", width=3, height=2)"
   ]
  },
  {
   "cell_type": "code",
   "execution_count": 88,
   "id": "7043c5d2-634c-42a6-af9b-60b34b2dc991",
   "metadata": {
    "tags": []
   },
   "outputs": [],
   "source": [
    "g12 = (g1 | g2 )"
   ]
  },
  {
   "cell_type": "code",
   "execution_count": 89,
   "id": "9b35908a-a1d6-463e-851b-7c875aa4e1c3",
   "metadata": {
    "tags": []
   },
   "outputs": [],
   "source": [
    "g345 = (g3 | g4 | g5)"
   ]
  },
  {
   "cell_type": "code",
   "execution_count": 90,
   "id": "ab1c641d-eb30-43cf-bf0b-2f62497d0778",
   "metadata": {
    "tags": []
   },
   "outputs": [
    {
     "data": {
      "image/png": "[encoded data removed]",
      "text/plain": [
       "<Figure size 100x100 with 14 Axes>"
      ]
     },
     "execution_count": 90,
     "metadata": {
      "image/png": {
       "height": 100,
       "width": 100
      }
     },
     "output_type": "execute_result"
    }
   ],
   "source": [
    "complete_g = g12 / g345\n",
    "complete_g.change_plotsize((2,2))\n",
    "complete_g.savefig(\"all.png\")"
   ]
  },
  {
   "cell_type": "code",
   "execution_count": null,
   "id": "1285aab6-eb0f-458c-869c-76bb5d9e5cad",
   "metadata": {},
   "outputs": [],
   "source": []
  }
 ],
 "metadata": {
  "kernelspec": {
   "display_name": "Python [conda env:anaconda-m2-plot]",
   "language": "python",
   "name": "conda-env-anaconda-m2-plot-py"
  },
  "language_info": {
   "codemirror_mode": {
    "name": "ipython",
    "version": 3
   },
   "file_extension": ".py",
   "mimetype": "text/x-python",
   "name": "python",
   "nbconvert_exporter": "python",
   "pygments_lexer": "ipython3",
   "version": "3.10.14"
  }
 },
 "nbformat": 4,
 "nbformat_minor": 5
}
